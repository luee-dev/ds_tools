{
 "cells": [
  {
   "cell_type": "markdown",
   "id": "03c730d1-c705-4ad3-a50a-366bdb2d4935",
   "metadata": {},
   "source": [
    "# Data Science Tools and Ecoystem"
   ]
  },
  {
   "cell_type": "markdown",
   "id": "91c0168b-606e-4478-9b19-2de6214d4c4c",
   "metadata": {},
   "source": [
    "In this notebook, Data Science Tools and Ecosystem are summarized"
   ]
  },
  {
   "cell_type": "markdown",
   "id": "c9275d62-c088-48e2-83e9-805228eb099e",
   "metadata": {},
   "source": [
    "**Objectives:**\n",
    "\n",
    "- Popular languages for Data Science.\n",
    "- Evaluate arithmetic expressions in Python.\n",
    "- Open-source tools used in Data Science.\n",
    "- Hands-on experience with basic coding in Python.\n"
   ]
  },
  {
   "cell_type": "markdown",
   "id": "f065a907-ac6a-4741-842e-9a6110ce0bc2",
   "metadata": {},
   "source": [
    "Some of the popular languages that Data Scientists use are:\n",
    "1. Python\n",
    "2. Julia\n",
    "3. R"
   ]
  },
  {
   "cell_type": "markdown",
   "id": "c315ef1a-9c6b-4f6d-8856-f989ba1fc138",
   "metadata": {},
   "source": [
    "Some of the commonly used libraries used by Data Scientists include:\n",
    "1. Numpy\n",
    "2. Pandas\n",
    "3. Tensorflow"
   ]
  },
  {
   "cell_type": "markdown",
   "id": "55a34001-ccfd-4b29-b13e-801f3fdaaeed",
   "metadata": {},
   "source": [
    "| Data Science Tools     |\n",
    "|------------------------|\n",
    "| Jupyter Notebook        |\n",
    "| RStudio                |\n",
    "| Apache Zeppelin        |"
   ]
  },
  {
   "cell_type": "markdown",
   "id": "bd46f933-a656-44f6-972e-77616410a4e7",
   "metadata": {},
   "source": [
    "### Below are a few examples of evaluating arithmetic expressions in Python.\n"
   ]
  },
  {
   "cell_type": "code",
   "execution_count": 1,
   "id": "f8747650-7975-49a5-b21e-e20d2a005bac",
   "metadata": {
    "tags": []
   },
   "outputs": [
    {
     "data": {
      "text/plain": [
       "17"
      ]
     },
     "execution_count": 1,
     "metadata": {},
     "output_type": "execute_result"
    }
   ],
   "source": [
    "# This is a simple arithmetic expression to multiply then add integers.\n",
    "result = (3 * 4) + 5\n",
    "result"
   ]
  },
  {
   "cell_type": "code",
   "execution_count": 2,
   "id": "2618afa8-b42d-49d8-9e31-69d9ba462b94",
   "metadata": {
    "tags": []
   },
   "outputs": [
    {
     "data": {
      "text/plain": [
       "3.3333333333333335"
      ]
     },
     "execution_count": 2,
     "metadata": {},
     "output_type": "execute_result"
    }
   ],
   "source": [
    "# This will convert 200 minutes to hours by dividing by 60.\n",
    "hours = 200 / 60\n",
    "hours"
   ]
  },
  {
   "cell_type": "markdown",
   "id": "91f78beb-f3dc-4deb-9d38-154243e3ae32",
   "metadata": {},
   "source": [
    "## Author\n",
    "\n",
    "Lewis Masha"
   ]
  },
  {
   "cell_type": "code",
   "execution_count": null,
   "id": "e94080bc-714a-4fde-8d4e-60d242c0cb19",
   "metadata": {},
   "outputs": [],
   "source": []
  }
 ],
 "metadata": {
  "kernelspec": {
   "display_name": "Python",
   "language": "python",
   "name": "conda-env-python-py"
  },
  "language_info": {
   "codemirror_mode": {
    "name": "ipython",
    "version": 3
   },
   "file_extension": ".py",
   "mimetype": "text/x-python",
   "name": "python",
   "nbconvert_exporter": "python",
   "pygments_lexer": "ipython3",
   "version": "3.7.12"
  }
 },
 "nbformat": 4,
 "nbformat_minor": 5
}
